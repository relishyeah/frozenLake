{
 "cells": [
  {
   "cell_type": "code",
   "execution_count": 3,
   "metadata": {},
   "outputs": [
    {
     "name": "stdout",
     "output_type": "stream",
     "text": [
      "[+] Done\n"
     ]
    }
   ],
   "source": [
    "from  sklearn.neural_network import MLPClassifier\n",
    "import numpy as np\n",
    "import  gym\n",
    "import pandas as pd\n",
    "import matplotlib.pyplot as plt\n",
    "import time\n",
    "from IPython.display import clear_output\n",
    "print(\"[+] Done\")"
   ]
  },
  {
   "cell_type": "markdown",
   "metadata": {},
   "source": [
    "<h2>Introduction </h2>\n",
    "This project will use Q-learning techniques to solve a simpled Open AI gym game, the Frozen Lake Game.\n",
    "\n",
    "The basic idea of this game is that you want to get from S to G without running into any of the holes in the ice marked by H. The ice also has a probability of making you go a different direction than the one you inputted, as if you were to \"slip\" on the ice. "
   ]
  },
  {
   "cell_type": "code",
   "execution_count": 4,
   "metadata": {},
   "outputs": [],
   "source": [
    "env = gym.make('FrozenLake-v0')\n",
    "\n",
    "actions = env.action_space.n\n",
    "observations = env.observation_space.n"
   ]
  },
  {
   "cell_type": "code",
   "execution_count": 5,
   "metadata": {},
   "outputs": [
    {
     "name": "stdout",
     "output_type": "stream",
     "text": [
      "  (Left)\n",
      "SFFF\n",
      "FHF\u001b[41mH\u001b[0m\n",
      "FFFH\n",
      "HFFG\n",
      "Done!\n"
     ]
    }
   ],
   "source": [
    "def demo():\n",
    "    obs = env.reset()\n",
    "    while True:\n",
    "        env.render()\n",
    "        clear_output(wait=True)\n",
    "        action = env.action_space.sample()\n",
    "        observation, reward, done, info = env.step(action)\n",
    "        time.sleep(.3)\n",
    "        if done:\n",
    "            env.render()\n",
    "            print(\"Done!\")\n",
    "            break\n",
    "            \n",
    "demo()"
   ]
  },
  {
   "cell_type": "markdown",
   "metadata": {},
   "source": [
    "With no knowledge of the maze, most of the time it will not complete it corretcly, but through quasi exponential discounting (Shoutout behavioral economics) we can train the model to get better at completing the maze"
   ]
  },
  {
   "cell_type": "code",
   "execution_count": 6,
   "metadata": {},
   "outputs": [],
   "source": [
    "states = np.zeros(observations * actions).reshape(observations,actions)\n",
    "alpha = .6\n",
    "num_trials = 10000\n",
    "epsilon = 1\n",
    "max_steps = 100\n",
    "learn_rate = 0.002\n",
    "scores = []\n",
    "\n",
    "\n",
    "for train_iter in range(num_trials):\n",
    "    observation =    env.reset()\n",
    "    for t in range(max_steps):\n",
    "        prev= observation\n",
    "        if np.random.rand() < epsilon:\n",
    "            action = env.action_space.sample()\n",
    "        else:\n",
    "            action = np.argmax(states[prev])\n",
    "        \n",
    "        observation, reward, done, info = env.step(action)\n",
    "        states[prev][action] = (1-alpha) * states[prev][action] + alpha* (reward+.99 *states[observation].max())\n",
    "        \n",
    "        if done or t== 99:\n",
    "            scores.append(reward)\n",
    "            epsilon *= (1- learn_rate)\n",
    "            break"
   ]
  },
  {
   "cell_type": "code",
   "execution_count": 7,
   "metadata": {},
   "outputs": [
    {
     "data": {
      "image/png": "[encoded data removed]",
      "text/plain": [
       "<Figure size 432x288 with 1 Axes>"
      ]
     },
     "metadata": {
      "needs_background": "light"
     },
     "output_type": "display_data"
    }
   ],
   "source": [
    "scores10 = []\n",
    "X = [1000,2000,3000,4000,5000,6000,7000,8000,9000,10000]\n",
    "for i in range(0,len(scores),1000):\n",
    "    scores10 .append(100*(np.mean(scores[i:i+999])))\n",
    "plt.plot(X,scores10,'r')\n",
    "plt.title(\"Win Percentage per 1000 Episodes\")\n",
    "plt.xlabel(\"Number of Episodes\")\n",
    "plt.ylabel(\"Percentage\")\n",
    "plt.show()"
   ]
  },
  {
   "cell_type": "markdown",
   "metadata": {},
   "source": [
    "You can see that the model makes large jumps at first and then levels out, approaching a success rate in the mid 70s. Due to the random \"slipping\" in the puzzle, this is a good rate. Here is an example of our trained model playing the game"
   ]
  },
  {
   "cell_type": "code",
   "execution_count": 8,
   "metadata": {},
   "outputs": [
    {
     "name": "stdout",
     "output_type": "stream",
     "text": [
      "  (Down)\n",
      "SFFF\n",
      "FHFH\n",
      "FFFH\n",
      "HFF\u001b[41mG\u001b[0m\n",
      "Done!\n"
     ]
    }
   ],
   "source": [
    "def demo2():\n",
    "    for i in [1,2]:\n",
    "        obs = env.reset()\n",
    "        while True:\n",
    "            env.render()\n",
    "            clear_output(wait=True)\n",
    "            action =np.argmax(states[prev])\n",
    "            observation, reward, done, info = env.step(action)\n",
    "            time.sleep(.3)\n",
    "            if done:\n",
    "                env.render()\n",
    "                print(\"Done!\")\n",
    "                time.sleep(2)\n",
    "                break\n",
    "demo2()"
   ]
  }
 ],
 "metadata": {
  "kernelspec": {
   "display_name": "Python 3",
   "language": "python",
   "name": "python3"
  },
  "language_info": {
   "codemirror_mode": {
    "name": "ipython",
    "version": 3
   },
   "file_extension": ".py",
   "mimetype": "text/x-python",
   "name": "python",
   "nbconvert_exporter": "python",
   "pygments_lexer": "ipython3",
   "version": "3.7.3"
  }
 },
 "nbformat": 4,
 "nbformat_minor": 2
}
